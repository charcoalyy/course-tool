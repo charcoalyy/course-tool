{
 "cells": [
  {
   "cell_type": "code",
   "execution_count": 2,
   "metadata": {},
   "outputs": [],
   "source": [
    "import cohere\n",
    "import openai\n",
    "import numpy as np\n",
    "import json"
   ]
  },
  {
   "cell_type": "code",
   "execution_count": 9,
   "metadata": {},
   "outputs": [],
   "source": [
    "openai.api_key = "
   ]
  },
  {
   "cell_type": "code",
   "execution_count": 12,
   "metadata": {},
   "outputs": [],
   "source": [
    "with open(\"cs246e_uwflow_reviews.json\", \"r\") as f:\n",
    "    reviews_array = json.load(f)\n",
    "\n",
    "reviews_cat = \"\".join(reviews_array)"
   ]
  },
  {
   "cell_type": "code",
   "execution_count": null,
   "metadata": {},
   "outputs": [],
   "source": []
  },
  {
   "cell_type": "code",
   "execution_count": 13,
   "metadata": {},
   "outputs": [
    {
     "ename": "CohereAPIError",
     "evalue": "You are using a Trial key, which is limited to 0 API calls / minute. You can continue to use the Trial key for free or upgrade to a Production key with higher rate limits at 'https://dashboard.cohere.ai/api-keys'. Contact us on 'https://discord.gg/XW44jPfYJu' or email us at support@cohere.com with any questions",
     "output_type": "error",
     "traceback": [
      "\u001b[0;31m---------------------------------------------------------------------------\u001b[0m",
      "\u001b[0;31mCohereAPIError\u001b[0m                            Traceback (most recent call last)",
      "Cell \u001b[0;32mIn[13], line 1\u001b[0m\n\u001b[0;32m----> 1\u001b[0m response \u001b[38;5;241m=\u001b[39m \u001b[43mco\u001b[49m\u001b[38;5;241;43m.\u001b[39;49m\u001b[43msummarize\u001b[49m\u001b[43m(\u001b[49m\n\u001b[1;32m      2\u001b[0m \u001b[43m    \u001b[49m\u001b[43mtext\u001b[49m\u001b[38;5;241;43m=\u001b[39;49m\u001b[43mreviews_cat\u001b[49m\u001b[43m,\u001b[49m\n\u001b[1;32m      3\u001b[0m \u001b[43m    \u001b[49m\u001b[43mmodel\u001b[49m\u001b[38;5;241;43m=\u001b[39;49m\u001b[38;5;124;43m'\u001b[39;49m\u001b[38;5;124;43mcommand\u001b[39;49m\u001b[38;5;124;43m'\u001b[39;49m\u001b[43m,\u001b[49m\n\u001b[1;32m      4\u001b[0m \u001b[43m    \u001b[49m\u001b[43mlength\u001b[49m\u001b[38;5;241;43m=\u001b[39;49m\u001b[38;5;124;43m'\u001b[39;49m\u001b[38;5;124;43mmedium\u001b[39;49m\u001b[38;5;124;43m'\u001b[39;49m\u001b[43m,\u001b[49m\n\u001b[1;32m      5\u001b[0m \u001b[43m    \u001b[49m\u001b[43mextractiveness\u001b[49m\u001b[38;5;241;43m=\u001b[39;49m\u001b[38;5;124;43m'\u001b[39;49m\u001b[38;5;124;43mmedium\u001b[39;49m\u001b[38;5;124;43m'\u001b[39;49m\n\u001b[1;32m      6\u001b[0m \u001b[43m)\u001b[49m\n",
      "File \u001b[0;32m/Library/Frameworks/Python.framework/Versions/3.10/lib/python3.10/site-packages/cohere/client.py:549\u001b[0m, in \u001b[0;36mClient.summarize\u001b[0;34m(self, text, model, length, format, temperature, additional_command, extractiveness)\u001b[0m\n\u001b[1;32m    547\u001b[0m \u001b[39m# remove None values from the dict\u001b[39;00m\n\u001b[1;32m    548\u001b[0m json_body \u001b[39m=\u001b[39m {k: v \u001b[39mfor\u001b[39;00m k, v \u001b[39min\u001b[39;00m json_body\u001b[39m.\u001b[39mitems() \u001b[39mif\u001b[39;00m v \u001b[39mis\u001b[39;00m \u001b[39mnot\u001b[39;00m \u001b[39mNone\u001b[39;00m}\n\u001b[0;32m--> 549\u001b[0m response \u001b[39m=\u001b[39m \u001b[39mself\u001b[39;49m\u001b[39m.\u001b[39;49m_request(cohere\u001b[39m.\u001b[39;49mSUMMARIZE_URL, json\u001b[39m=\u001b[39;49mjson_body)\n\u001b[1;32m    551\u001b[0m \u001b[39mreturn\u001b[39;00m SummarizeResponse(\u001b[39mid\u001b[39m\u001b[39m=\u001b[39mresponse[\u001b[39m\"\u001b[39m\u001b[39mid\u001b[39m\u001b[39m\"\u001b[39m], summary\u001b[39m=\u001b[39mresponse[\u001b[39m\"\u001b[39m\u001b[39msummary\u001b[39m\u001b[39m\"\u001b[39m], meta\u001b[39m=\u001b[39mresponse[\u001b[39m\"\u001b[39m\u001b[39mmeta\u001b[39m\u001b[39m\"\u001b[39m])\n",
      "File \u001b[0;32m/Library/Frameworks/Python.framework/Versions/3.10/lib/python3.10/site-packages/cohere/client.py:927\u001b[0m, in \u001b[0;36mClient._request\u001b[0;34m(self, endpoint, json, files, method, stream, params)\u001b[0m\n\u001b[1;32m    924\u001b[0m     \u001b[39mexcept\u001b[39;00m jsonlib\u001b[39m.\u001b[39mdecoder\u001b[39m.\u001b[39mJSONDecodeError:  \u001b[39m# CohereAPIError will capture status\u001b[39;00m\n\u001b[1;32m    925\u001b[0m         \u001b[39mraise\u001b[39;00m CohereAPIError\u001b[39m.\u001b[39mfrom_response(response, message\u001b[39m=\u001b[39m\u001b[39mf\u001b[39m\u001b[39m\"\u001b[39m\u001b[39mFailed to decode json body: \u001b[39m\u001b[39m{\u001b[39;00mresponse\u001b[39m.\u001b[39mtext\u001b[39m}\u001b[39;00m\u001b[39m\"\u001b[39m)\n\u001b[0;32m--> 927\u001b[0m     \u001b[39mself\u001b[39;49m\u001b[39m.\u001b[39;49m_check_response(json_response, response\u001b[39m.\u001b[39;49mheaders, response\u001b[39m.\u001b[39;49mstatus_code)\n\u001b[1;32m    928\u001b[0m \u001b[39mreturn\u001b[39;00m json_response\n",
      "File \u001b[0;32m/Library/Frameworks/Python.framework/Versions/3.10/lib/python3.10/site-packages/cohere/client.py:869\u001b[0m, in \u001b[0;36mClient._check_response\u001b[0;34m(self, json_response, headers, status_code)\u001b[0m\n\u001b[1;32m    867\u001b[0m     logger\u001b[39m.\u001b[39mwarning(headers[\u001b[39m\"\u001b[39m\u001b[39mX-API-Warning\u001b[39m\u001b[39m\"\u001b[39m])\n\u001b[1;32m    868\u001b[0m \u001b[39mif\u001b[39;00m \u001b[39m\"\u001b[39m\u001b[39mmessage\u001b[39m\u001b[39m\"\u001b[39m \u001b[39min\u001b[39;00m json_response:  \u001b[39m# has errors\u001b[39;00m\n\u001b[0;32m--> 869\u001b[0m     \u001b[39mraise\u001b[39;00m CohereAPIError(\n\u001b[1;32m    870\u001b[0m         message\u001b[39m=\u001b[39mjson_response[\u001b[39m\"\u001b[39m\u001b[39mmessage\u001b[39m\u001b[39m\"\u001b[39m],\n\u001b[1;32m    871\u001b[0m         http_status\u001b[39m=\u001b[39mstatus_code,\n\u001b[1;32m    872\u001b[0m         headers\u001b[39m=\u001b[39mheaders,\n\u001b[1;32m    873\u001b[0m     )\n\u001b[1;32m    874\u001b[0m \u001b[39mif\u001b[39;00m \u001b[39m400\u001b[39m \u001b[39m<\u001b[39m\u001b[39m=\u001b[39m status_code \u001b[39m<\u001b[39m \u001b[39m500\u001b[39m:\n\u001b[1;32m    875\u001b[0m     \u001b[39mraise\u001b[39;00m CohereAPIError(\n\u001b[1;32m    876\u001b[0m         message\u001b[39m=\u001b[39m\u001b[39mf\u001b[39m\u001b[39m\"\u001b[39m\u001b[39mUnexpected client error (status \u001b[39m\u001b[39m{\u001b[39;00mstatus_code\u001b[39m}\u001b[39;00m\u001b[39m): \u001b[39m\u001b[39m{\u001b[39;00mjson_response\u001b[39m}\u001b[39;00m\u001b[39m\"\u001b[39m,\n\u001b[1;32m    877\u001b[0m         http_status\u001b[39m=\u001b[39mstatus_code,\n\u001b[1;32m    878\u001b[0m         headers\u001b[39m=\u001b[39mheaders,\n\u001b[1;32m    879\u001b[0m     )\n",
      "\u001b[0;31mCohereAPIError\u001b[0m: You are using a Trial key, which is limited to 0 API calls / minute. You can continue to use the Trial key for free or upgrade to a Production key with higher rate limits at 'https://dashboard.cohere.ai/api-keys'. Contact us on 'https://discord.gg/XW44jPfYJu' or email us at support@cohere.com with any questions"
     ]
    }
   ],
   "source": [
    "response = co.summarize(\n",
    "    text=reviews_cat,\n",
    "    model='command',\n",
    "    length='medium',\n",
    "    extractiveness='medium'\n",
    ")"
   ]
  },
  {
   "cell_type": "code",
   "execution_count": null,
   "metadata": {},
   "outputs": [],
   "source": [
    "summary = response.summary"
   ]
  }
 ],
 "metadata": {
  "kernelspec": {
   "display_name": "Python 3.10.0 64-bit",
   "language": "python",
   "name": "python3"
  },
  "language_info": {
   "codemirror_mode": {
    "name": "ipython",
    "version": 3
   },
   "file_extension": ".py",
   "mimetype": "text/x-python",
   "name": "python",
   "nbconvert_exporter": "python",
   "pygments_lexer": "ipython3",
   "version": "3.10.0"
  },
  "orig_nbformat": 4,
  "vscode": {
   "interpreter": {
    "hash": "aee8b7b246df8f9039afb4144a1f6fd8d2ca17a180786b69acc140d282b71a49"
   }
  }
 },
 "nbformat": 4,
 "nbformat_minor": 2
}
