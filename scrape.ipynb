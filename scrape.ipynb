{
 "cells": [
  {
   "cell_type": "code",
   "execution_count": 110,
   "metadata": {},
   "outputs": [],
   "source": [
    "import requests\n",
    "from bs4 import BeautifulSoup\n",
    "from selenium import webdriver\n",
    "from selenium.webdriver.common.by import By\n",
    "from selenium.webdriver.support.ui import WebDriverWait\n",
    "from selenium.webdriver.support import expected_conditions as EC\n",
    "import time\n",
    "import json"
   ]
  },
  {
   "cell_type": "code",
   "execution_count": 2,
   "metadata": {},
   "outputs": [],
   "source": [
    "response = requests.get(\"http://www.uwflow.com\")\n",
    "soup = BeautifulSoup(response.text, 'html.parser')"
   ]
  },
  {
   "cell_type": "code",
   "execution_count": 3,
   "metadata": {},
   "outputs": [
    {
     "name": "stdout",
     "output_type": "stream",
     "text": [
      "UW Flow\n"
     ]
    }
   ],
   "source": [
    "# Find title tag\n",
    "title = soup.find('title')\n",
    "print(title.string)  # Outputs: \"Example Domain\""
   ]
  },
  {
   "cell_type": "code",
   "execution_count": 119,
   "metadata": {},
   "outputs": [],
   "source": [
    "course = \"cs246e\""
   ]
  },
  {
   "cell_type": "code",
   "execution_count": 114,
   "metadata": {},
   "outputs": [],
   "source": [
    "driver = webdriver.Chrome()\n",
    "driver.get(f\"https://uwflow.com/course/{course}\")\n",
    "\n",
    "\n",
    "show_all_button = WebDriverWait(driver, 20).until(EC.presence_of_element_located((By.XPATH, \"//*[starts-with(text(), 'Show all')]\")))\n",
    "driver.execute_script(\"arguments[0].scrollIntoView();\", show_all_button)\n",
    "show_all_button = WebDriverWait(driver, 20).until(EC.visibility_of_element_located((By.XPATH, \"//*[starts-with(text(), 'Show all')]\")))\n",
    "show_all_button = WebDriverWait(driver, 20).until(EC.element_to_be_clickable((By.XPATH, \"//*[starts-with(text(), 'Show all')]\")))\n",
    "time.sleep(1)\n",
    "\n",
    "show_all_button.click()\n",
    "\n"
   ]
  },
  {
   "cell_type": "code",
   "execution_count": 118,
   "metadata": {},
   "outputs": [],
   "source": [
    "review_array = []\n",
    "\n",
    "review_containers = driver.find_elements(By.TAG_NAME, \"table\")\n",
    "review_containers_parents =  [review_container.find_element(By.XPATH, \"..\") for review_container in review_containers]\n",
    "for review_container_parent in review_containers_parents:\n",
    "    review_text = review_container_parent.find_element(By.XPATH, \"./*[2]\").find_element(By.XPATH, \"./*[1]\")\n",
    "    review_array.append(review_text.text)\n",
    "\n",
    "review_json_name = \"\".join([course, \"_uwflow\", \"_reviews.json\"])\n",
    "with open(review_json_name, 'w') as f:\n",
    "    json.dump(review_array, f)\n"
   ]
  },
  {
   "cell_type": "code",
   "execution_count": 54,
   "metadata": {},
   "outputs": [],
   "source": [
    "show_all_button = WebDriverWait(driver, 10).until(\n",
    "        EC.presence_of_element_located((By.XPATH, \"//*[starts-with(text(), 'Show all')]\"))\n",
    "    )\n",
    "show_all_button.click()"
   ]
  },
  {
   "cell_type": "code",
   "execution_count": 82,
   "metadata": {},
   "outputs": [
    {
     "ename": "NoSuchWindowException",
     "evalue": "Message: no such window: target window already closed\nfrom unknown error: web view not found\n  (Session info: chrome=116.0.5845.187)\nStacktrace:\n0   chromedriver                        0x000000010073265c chromedriver + 4318812\n1   chromedriver                        0x000000010072ad00 chromedriver + 4287744\n2   chromedriver                        0x000000010035c7ec chromedriver + 296940\n3   chromedriver                        0x00000001003346e4 chromedriver + 132836\n4   chromedriver                        0x00000001003bfde4 chromedriver + 703972\n5   chromedriver                        0x00000001003c58d8 chromedriver + 727256\n6   chromedriver                        0x000000010038e178 chromedriver + 500088\n7   chromedriver                        0x000000010038efc0 chromedriver + 503744\n8   chromedriver                        0x00000001006f2c40 chromedriver + 4058176\n9   chromedriver                        0x00000001006f7160 chromedriver + 4075872\n10  chromedriver                        0x00000001006bae68 chromedriver + 3829352\n11  chromedriver                        0x00000001006f7c4c chromedriver + 4078668\n12  chromedriver                        0x00000001006cff08 chromedriver + 3915528\n13  chromedriver                        0x0000000100714140 chromedriver + 4194624\n14  chromedriver                        0x00000001007142c4 chromedriver + 4195012\n15  chromedriver                        0x00000001007244d0 chromedriver + 4261072\n16  libsystem_pthread.dylib             0x000000018ae114ec _pthread_start + 148\n17  libsystem_pthread.dylib             0x000000018ae0c2d0 thread_start + 8\n",
     "output_type": "error",
     "traceback": [
      "\u001b[0;31m---------------------------------------------------------------------------\u001b[0m",
      "\u001b[0;31mNoSuchWindowException\u001b[0m                     Traceback (most recent call last)",
      "Cell \u001b[0;32mIn[82], line 1\u001b[0m\n\u001b[0;32m----> 1\u001b[0m \u001b[43mdriver\u001b[49m\u001b[38;5;241;43m.\u001b[39;49m\u001b[43mclose\u001b[49m\u001b[43m(\u001b[49m\u001b[43m)\u001b[49m\n",
      "File \u001b[0;32m/Library/Frameworks/Python.framework/Versions/3.10/lib/python3.10/site-packages/selenium/webdriver/remote/webdriver.py:455\u001b[0m, in \u001b[0;36mWebDriver.close\u001b[0;34m(self)\u001b[0m\n\u001b[1;32m    447\u001b[0m \u001b[39mdef\u001b[39;00m \u001b[39mclose\u001b[39m(\u001b[39mself\u001b[39m) \u001b[39m-\u001b[39m\u001b[39m>\u001b[39m \u001b[39mNone\u001b[39;00m:\n\u001b[1;32m    448\u001b[0m     \u001b[39m\"\"\"Closes the current window.\u001b[39;00m\n\u001b[1;32m    449\u001b[0m \n\u001b[1;32m    450\u001b[0m \u001b[39m    :Usage:\u001b[39;00m\n\u001b[0;32m   (...)\u001b[0m\n\u001b[1;32m    453\u001b[0m \u001b[39m            driver.close()\u001b[39;00m\n\u001b[1;32m    454\u001b[0m \u001b[39m    \"\"\"\u001b[39;00m\n\u001b[0;32m--> 455\u001b[0m     \u001b[39mself\u001b[39;49m\u001b[39m.\u001b[39;49mexecute(Command\u001b[39m.\u001b[39;49mCLOSE)\n",
      "File \u001b[0;32m/Library/Frameworks/Python.framework/Versions/3.10/lib/python3.10/site-packages/selenium/webdriver/remote/webdriver.py:344\u001b[0m, in \u001b[0;36mWebDriver.execute\u001b[0;34m(self, driver_command, params)\u001b[0m\n\u001b[1;32m    342\u001b[0m response \u001b[39m=\u001b[39m \u001b[39mself\u001b[39m\u001b[39m.\u001b[39mcommand_executor\u001b[39m.\u001b[39mexecute(driver_command, params)\n\u001b[1;32m    343\u001b[0m \u001b[39mif\u001b[39;00m response:\n\u001b[0;32m--> 344\u001b[0m     \u001b[39mself\u001b[39;49m\u001b[39m.\u001b[39;49merror_handler\u001b[39m.\u001b[39;49mcheck_response(response)\n\u001b[1;32m    345\u001b[0m     response[\u001b[39m\"\u001b[39m\u001b[39mvalue\u001b[39m\u001b[39m\"\u001b[39m] \u001b[39m=\u001b[39m \u001b[39mself\u001b[39m\u001b[39m.\u001b[39m_unwrap_value(response\u001b[39m.\u001b[39mget(\u001b[39m\"\u001b[39m\u001b[39mvalue\u001b[39m\u001b[39m\"\u001b[39m, \u001b[39mNone\u001b[39;00m))\n\u001b[1;32m    346\u001b[0m     \u001b[39mreturn\u001b[39;00m response\n",
      "File \u001b[0;32m/Library/Frameworks/Python.framework/Versions/3.10/lib/python3.10/site-packages/selenium/webdriver/remote/errorhandler.py:229\u001b[0m, in \u001b[0;36mErrorHandler.check_response\u001b[0;34m(self, response)\u001b[0m\n\u001b[1;32m    227\u001b[0m         alert_text \u001b[39m=\u001b[39m value[\u001b[39m\"\u001b[39m\u001b[39malert\u001b[39m\u001b[39m\"\u001b[39m]\u001b[39m.\u001b[39mget(\u001b[39m\"\u001b[39m\u001b[39mtext\u001b[39m\u001b[39m\"\u001b[39m)\n\u001b[1;32m    228\u001b[0m     \u001b[39mraise\u001b[39;00m exception_class(message, screen, stacktrace, alert_text)  \u001b[39m# type: ignore[call-arg]  # mypy is not smart enough here\u001b[39;00m\n\u001b[0;32m--> 229\u001b[0m \u001b[39mraise\u001b[39;00m exception_class(message, screen, stacktrace)\n",
      "\u001b[0;31mNoSuchWindowException\u001b[0m: Message: no such window: target window already closed\nfrom unknown error: web view not found\n  (Session info: chrome=116.0.5845.187)\nStacktrace:\n0   chromedriver                        0x000000010073265c chromedriver + 4318812\n1   chromedriver                        0x000000010072ad00 chromedriver + 4287744\n2   chromedriver                        0x000000010035c7ec chromedriver + 296940\n3   chromedriver                        0x00000001003346e4 chromedriver + 132836\n4   chromedriver                        0x00000001003bfde4 chromedriver + 703972\n5   chromedriver                        0x00000001003c58d8 chromedriver + 727256\n6   chromedriver                        0x000000010038e178 chromedriver + 500088\n7   chromedriver                        0x000000010038efc0 chromedriver + 503744\n8   chromedriver                        0x00000001006f2c40 chromedriver + 4058176\n9   chromedriver                        0x00000001006f7160 chromedriver + 4075872\n10  chromedriver                        0x00000001006bae68 chromedriver + 3829352\n11  chromedriver                        0x00000001006f7c4c chromedriver + 4078668\n12  chromedriver                        0x00000001006cff08 chromedriver + 3915528\n13  chromedriver                        0x0000000100714140 chromedriver + 4194624\n14  chromedriver                        0x00000001007142c4 chromedriver + 4195012\n15  chromedriver                        0x00000001007244d0 chromedriver + 4261072\n16  libsystem_pthread.dylib             0x000000018ae114ec _pthread_start + 148\n17  libsystem_pthread.dylib             0x000000018ae0c2d0 thread_start + 8\n"
     ]
    }
   ],
   "source": [
    "driver.close()"
   ]
  }
 ],
 "metadata": {
  "kernelspec": {
   "display_name": "Python 3.10.0 64-bit",
   "language": "python",
   "name": "python3"
  },
  "language_info": {
   "codemirror_mode": {
    "name": "ipython",
    "version": 3
   },
   "file_extension": ".py",
   "mimetype": "text/x-python",
   "name": "python",
   "nbconvert_exporter": "python",
   "pygments_lexer": "ipython3",
   "version": "3.10.0"
  },
  "orig_nbformat": 4,
  "vscode": {
   "interpreter": {
    "hash": "aee8b7b246df8f9039afb4144a1f6fd8d2ca17a180786b69acc140d282b71a49"
   }
  }
 },
 "nbformat": 4,
 "nbformat_minor": 2
}
